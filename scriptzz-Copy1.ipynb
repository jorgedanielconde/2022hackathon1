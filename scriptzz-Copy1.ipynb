{
 "cells": [
  {
   "cell_type": "code",
   "execution_count": 76,
   "id": "b29fb174",
   "metadata": {},
   "outputs": [],
   "source": [
    "import numpy as np"
   ]
  },
  {
   "cell_type": "code",
   "execution_count": 2,
   "id": "c1ed2056",
   "metadata": {},
   "outputs": [
    {
     "name": "stdout",
     "output_type": "stream",
     "text": [
      "Collecting git+https://github.com/chambliss/foodbert.git\n",
      "  Cloning https://github.com/chambliss/foodbert.git to c:\\users\\conde\\appdata\\local\\temp\\pip-req-build-7mp_doli\n",
      "  Resolved https://github.com/chambliss/foodbert.git to commit e2c41e0a52af48419806392212fb5dbc24d6b2f5\n",
      "  Preparing metadata (setup.py): started\n",
      "  Preparing metadata (setup.py): finished with status 'done'\n",
      "Building wheels for collected packages: food-extractor\n",
      "  Building wheel for food-extractor (setup.py): started\n",
      "  Building wheel for food-extractor (setup.py): finished with status 'done'\n",
      "  Created wheel for food-extractor: filename=food_extractor-0.9.0-py3-none-any.whl size=19586 sha256=e755cc5104dbaf234f4da502b7b376d73d86332728395e7cca2e20f4d5f7e2ed\n",
      "  Stored in directory: C:\\Users\\conde\\AppData\\Local\\Temp\\pip-ephem-wheel-cache-kfd8wvxa\\wheels\\b7\\04\\f2\\6b6bf53d3a753a748439acb449deb8005b61e3a951b7f5cfde\n",
      "Successfully built food-extractor\n",
      "Installing collected packages: food-extractor\n",
      "Successfully installed food-extractor-0.9.0\n"
     ]
    },
    {
     "name": "stderr",
     "output_type": "stream",
     "text": [
      "  Running command git clone --filter=blob:none -q https://github.com/chambliss/foodbert.git 'C:\\Users\\conde\\AppData\\Local\\Temp\\pip-req-build-7mp_doli'\n",
      "WARNING: You are using pip version 21.3.1; however, version 22.0.4 is available.\n",
      "You should consider upgrading via the 'C:\\Users\\conde\\anaconda3\\envs\\hackathon\\python.exe -m pip install --upgrade pip' command.\n"
     ]
    }
   ],
   "source": [
    "!pip install git+https://github.com/chambliss/foodbert.git"
   ]
  },
  {
   "cell_type": "code",
   "execution_count": 9,
   "id": "5462c0f9",
   "metadata": {},
   "outputs": [
    {
     "name": "stdout",
     "output_type": "stream",
     "text": [
      "Collecting torch\n",
      "  Downloading torch-1.11.0-cp38-cp38-win_amd64.whl (158.0 MB)\n",
      "Requirement already satisfied: typing-extensions in c:\\users\\conde\\anaconda3\\envs\\hackathon\\lib\\site-packages (from torch) (4.1.1)\n",
      "Installing collected packages: torch\n",
      "Successfully installed torch-1.11.0\n"
     ]
    },
    {
     "name": "stderr",
     "output_type": "stream",
     "text": [
      "WARNING: You are using pip version 21.3.1; however, version 22.0.4 is available.\n",
      "You should consider upgrading via the 'C:\\Users\\conde\\anaconda3\\envs\\hackathon\\python.exe -m pip install --upgrade pip' command.\n"
     ]
    }
   ],
   "source": [
    "!pip install torch"
   ]
  },
  {
   "cell_type": "code",
   "execution_count": 11,
   "id": "3929436d",
   "metadata": {},
   "outputs": [
    {
     "name": "stdout",
     "output_type": "stream",
     "text": [
      "Collecting transformers\n",
      "  Downloading transformers-4.17.0-py3-none-any.whl (3.8 MB)\n"
     ]
    },
    {
     "name": "stderr",
     "output_type": "stream",
     "text": [
      "WARNING: You are using pip version 21.3.1; however, version 22.0.4 is available.\n",
      "You should consider upgrading via the 'C:\\Users\\conde\\anaconda3\\envs\\hackathon\\python.exe -m pip install --upgrade pip' command.\n"
     ]
    },
    {
     "name": "stdout",
     "output_type": "stream",
     "text": [
      "Collecting requests\n",
      "  Using cached requests-2.27.1-py2.py3-none-any.whl (63 kB)\n",
      "Collecting tokenizers!=0.11.3,>=0.11.1\n",
      "  Downloading tokenizers-0.11.6-cp38-cp38-win_amd64.whl (3.2 MB)\n",
      "Collecting tqdm>=4.27\n",
      "  Downloading tqdm-4.63.1-py2.py3-none-any.whl (76 kB)\n",
      "Collecting filelock\n",
      "  Downloading filelock-3.6.0-py3-none-any.whl (10.0 kB)\n",
      "Collecting huggingface-hub<1.0,>=0.1.0\n",
      "  Downloading huggingface_hub-0.4.0-py3-none-any.whl (67 kB)\n",
      "Collecting regex!=2019.12.17\n",
      "  Downloading regex-2022.3.15-cp38-cp38-win_amd64.whl (274 kB)\n",
      "Collecting sacremoses\n",
      "  Downloading sacremoses-0.0.49-py3-none-any.whl (895 kB)\n",
      "Requirement already satisfied: packaging>=20.0 in c:\\users\\conde\\anaconda3\\envs\\hackathon\\lib\\site-packages (from transformers) (21.3)\n",
      "Collecting pyyaml>=5.1\n",
      "  Downloading PyYAML-6.0-cp38-cp38-win_amd64.whl (155 kB)\n",
      "Requirement already satisfied: numpy>=1.17 in c:\\users\\conde\\anaconda3\\envs\\hackathon\\lib\\site-packages (from transformers) (1.22.3)\n",
      "Requirement already satisfied: typing-extensions>=3.7.4.3 in c:\\users\\conde\\anaconda3\\envs\\hackathon\\lib\\site-packages (from huggingface-hub<1.0,>=0.1.0->transformers) (4.1.1)\n",
      "Requirement already satisfied: pyparsing!=3.0.5,>=2.0.2 in c:\\users\\conde\\anaconda3\\envs\\hackathon\\lib\\site-packages (from packaging>=20.0->transformers) (3.0.7)\n",
      "Requirement already satisfied: colorama in c:\\users\\conde\\anaconda3\\envs\\hackathon\\lib\\site-packages (from tqdm>=4.27->transformers) (0.4.4)\n",
      "Requirement already satisfied: certifi>=2017.4.17 in c:\\users\\conde\\anaconda3\\envs\\hackathon\\lib\\site-packages (from requests->transformers) (2021.10.8)\n",
      "Collecting charset-normalizer~=2.0.0\n",
      "  Using cached charset_normalizer-2.0.12-py3-none-any.whl (39 kB)\n",
      "Collecting idna<4,>=2.5\n",
      "  Using cached idna-3.3-py3-none-any.whl (61 kB)\n",
      "Collecting urllib3<1.27,>=1.21.1\n",
      "  Downloading urllib3-1.26.9-py2.py3-none-any.whl (138 kB)\n",
      "Requirement already satisfied: six in c:\\users\\conde\\anaconda3\\envs\\hackathon\\lib\\site-packages (from sacremoses->transformers) (1.16.0)\n",
      "Requirement already satisfied: joblib in c:\\users\\conde\\anaconda3\\envs\\hackathon\\lib\\site-packages (from sacremoses->transformers) (1.1.0)\n",
      "Collecting click\n",
      "  Using cached click-8.0.4-py3-none-any.whl (97 kB)\n",
      "Installing collected packages: urllib3, idna, charset-normalizer, tqdm, requests, regex, pyyaml, filelock, click, tokenizers, sacremoses, huggingface-hub, transformers\n",
      "Successfully installed charset-normalizer-2.0.12 click-8.0.4 filelock-3.6.0 huggingface-hub-0.4.0 idna-3.3 pyyaml-6.0 regex-2022.3.15 requests-2.27.1 sacremoses-0.0.49 tokenizers-0.11.6 tqdm-4.63.1 transformers-4.17.0 urllib3-1.26.9\n"
     ]
    }
   ],
   "source": [
    "!pip install transformers"
   ]
  },
  {
   "cell_type": "code",
   "execution_count": 13,
   "id": "018a2100",
   "metadata": {},
   "outputs": [
    {
     "name": "stdout",
     "output_type": "stream",
     "text": [
      "Collecting pytesseract\n",
      "  Downloading pytesseract-0.3.9-py2.py3-none-any.whl (14 kB)\n",
      "Requirement already satisfied: packaging>=21.3 in c:\\users\\conde\\anaconda3\\envs\\hackathon\\lib\\site-packages (from pytesseract) (21.3)\n",
      "Requirement already satisfied: Pillow>=8.0.0 in c:\\users\\conde\\anaconda3\\envs\\hackathon\\lib\\site-packages (from pytesseract) (9.0.1)\n",
      "Requirement already satisfied: pyparsing!=3.0.5,>=2.0.2 in c:\\users\\conde\\anaconda3\\envs\\hackathon\\lib\\site-packages (from packaging>=21.3->pytesseract) (3.0.7)\n",
      "Installing collected packages: pytesseract\n",
      "Successfully installed pytesseract-0.3.9\n"
     ]
    },
    {
     "name": "stderr",
     "output_type": "stream",
     "text": [
      "WARNING: You are using pip version 21.3.1; however, version 22.0.4 is available.\n",
      "You should consider upgrading via the 'C:\\Users\\conde\\anaconda3\\envs\\hackathon\\python.exe -m pip install --upgrade pip' command.\n"
     ]
    }
   ],
   "source": [
    "!pip install pytesseract"
   ]
  },
  {
   "cell_type": "code",
   "execution_count": 22,
   "id": "e9d007a2",
   "metadata": {},
   "outputs": [
    {
     "name": "stdout",
     "output_type": "stream",
     "text": [
      "Collecting google-cloud-vision\n",
      "  Downloading google_cloud_vision-2.7.1-py2.py3-none-any.whl (383 kB)\n",
      "Collecting google-api-core[grpc]!=2.0.*,!=2.1.*,!=2.2.*,!=2.3.0,<3.0.0dev,>=1.31.5\n",
      "  Downloading google_api_core-2.7.1-py3-none-any.whl (114 kB)\n",
      "Collecting proto-plus>=1.15.0\n",
      "  Downloading proto_plus-1.20.3-py3-none-any.whl (46 kB)\n",
      "Collecting google-auth<3.0dev,>=1.25.0\n",
      "  Downloading google_auth-2.6.2-py2.py3-none-any.whl (156 kB)\n",
      "Collecting googleapis-common-protos<2.0dev,>=1.52.0\n",
      "  Downloading googleapis_common_protos-1.56.0-py2.py3-none-any.whl (241 kB)\n",
      "Collecting protobuf>=3.12.0\n",
      "  Using cached protobuf-3.19.4-cp38-cp38-win_amd64.whl (895 kB)\n",
      "Requirement already satisfied: requests<3.0.0dev,>=2.18.0 in c:\\users\\conde\\anaconda3\\envs\\hackathon\\lib\\site-packages (from google-api-core[grpc]!=2.0.*,!=2.1.*,!=2.2.*,!=2.3.0,<3.0.0dev,>=1.31.5->google-cloud-vision) (2.27.1)\n",
      "Collecting grpcio<2.0dev,>=1.33.2\n",
      "  Using cached grpcio-1.44.0-cp38-cp38-win_amd64.whl (3.4 MB)\n",
      "Collecting grpcio-status<2.0dev,>=1.33.2\n",
      "  Downloading grpcio_status-1.45.0-py3-none-any.whl (10.0 kB)\n",
      "Collecting pyasn1-modules>=0.2.1\n",
      "  Using cached pyasn1_modules-0.2.8-py2.py3-none-any.whl (155 kB)\n",
      "Collecting cachetools<6.0,>=2.0.0\n",
      "  Using cached cachetools-5.0.0-py3-none-any.whl (9.1 kB)\n",
      "Collecting rsa<5,>=3.1.4\n",
      "  Using cached rsa-4.8-py3-none-any.whl (39 kB)\n",
      "Requirement already satisfied: six>=1.9.0 in c:\\users\\conde\\anaconda3\\envs\\hackathon\\lib\\site-packages (from google-auth<3.0dev,>=1.25.0->google-api-core[grpc]!=2.0.*,!=2.1.*,!=2.2.*,!=2.3.0,<3.0.0dev,>=1.31.5->google-cloud-vision) (1.16.0)\n",
      "Collecting grpcio<2.0dev,>=1.33.2\n",
      "  Downloading grpcio-1.45.0-cp38-cp38-win_amd64.whl (3.5 MB)\n",
      "Requirement already satisfied: charset-normalizer~=2.0.0 in c:\\users\\conde\\anaconda3\\envs\\hackathon\\lib\\site-packages (from requests<3.0.0dev,>=2.18.0->google-api-core[grpc]!=2.0.*,!=2.1.*,!=2.2.*,!=2.3.0,<3.0.0dev,>=1.31.5->google-cloud-vision) (2.0.12)\n",
      "Requirement already satisfied: urllib3<1.27,>=1.21.1 in c:\\users\\conde\\anaconda3\\envs\\hackathon\\lib\\site-packages (from requests<3.0.0dev,>=2.18.0->google-api-core[grpc]!=2.0.*,!=2.1.*,!=2.2.*,!=2.3.0,<3.0.0dev,>=1.31.5->google-cloud-vision) (1.26.9)\n",
      "Requirement already satisfied: idna<4,>=2.5 in c:\\users\\conde\\anaconda3\\envs\\hackathon\\lib\\site-packages (from requests<3.0.0dev,>=2.18.0->google-api-core[grpc]!=2.0.*,!=2.1.*,!=2.2.*,!=2.3.0,<3.0.0dev,>=1.31.5->google-cloud-vision) (3.3)\n",
      "Requirement already satisfied: certifi>=2017.4.17 in c:\\users\\conde\\anaconda3\\envs\\hackathon\\lib\\site-packages (from requests<3.0.0dev,>=2.18.0->google-api-core[grpc]!=2.0.*,!=2.1.*,!=2.2.*,!=2.3.0,<3.0.0dev,>=1.31.5->google-cloud-vision) (2021.10.8)\n",
      "Collecting pyasn1<0.5.0,>=0.4.6\n",
      "  Using cached pyasn1-0.4.8-py2.py3-none-any.whl (77 kB)\n",
      "Installing collected packages: pyasn1, rsa, pyasn1-modules, protobuf, cachetools, grpcio, googleapis-common-protos, google-auth, grpcio-status, google-api-core, proto-plus, google-cloud-vision\n",
      "Successfully installed cachetools-5.0.0 google-api-core-2.7.1 google-auth-2.6.2 google-cloud-vision-2.7.1 googleapis-common-protos-1.56.0 grpcio-1.45.0 grpcio-status-1.45.0 proto-plus-1.20.3 protobuf-3.19.4 pyasn1-0.4.8 pyasn1-modules-0.2.8 rsa-4.8\n"
     ]
    },
    {
     "name": "stderr",
     "output_type": "stream",
     "text": [
      "WARNING: The candidate selected for download or install is a yanked version: 'grpcio' candidate (version 1.45.0 at https://files.pythonhosted.org/packages/95/92/206d13a61aad139e3afb63170c198070ce2a071ebd723c82ba9d643a96fe/grpcio-1.45.0-cp38-cp38-win_amd64.whl#sha256=da395720d6e9599c754f862f3f75bc0e8ff29fa55259e082e442a9cc916ffbc3 (from https://pypi.org/simple/grpcio/) (requires-python:>=3.6))\n",
      "Reason for being yanked: Segfaults\n",
      "WARNING: You are using pip version 21.3.1; however, version 22.0.4 is available.\n",
      "You should consider upgrading via the 'C:\\Users\\conde\\anaconda3\\envs\\hackathon\\python.exe -m pip install --upgrade pip' command.\n"
     ]
    }
   ],
   "source": [
    "!pip install google-cloud-vision"
   ]
  },
  {
   "cell_type": "code",
   "execution_count": 70,
   "id": "aa822b56",
   "metadata": {},
   "outputs": [
    {
     "name": "stdout",
     "output_type": "stream",
     "text": [
      "Collecting rapidfuzz\n",
      "  Downloading rapidfuzz-2.0.7-cp38-cp38-win_amd64.whl (976 kB)\n",
      "Collecting jarowinkler<1.1.0,>=1.0.2\n",
      "  Downloading jarowinkler-1.0.2-cp38-cp38-win_amd64.whl (59 kB)\n",
      "Installing collected packages: jarowinkler, rapidfuzz\n",
      "Successfully installed jarowinkler-1.0.2 rapidfuzz-2.0.7\n"
     ]
    },
    {
     "name": "stderr",
     "output_type": "stream",
     "text": [
      "WARNING: You are using pip version 21.3.1; however, version 22.0.4 is available.\n",
      "You should consider upgrading via the 'C:\\Users\\conde\\anaconda3\\envs\\hackathon\\python.exe -m pip install --upgrade pip' command.\n"
     ]
    }
   ],
   "source": [
    "!pip install rapidfuzz"
   ]
  },
  {
   "cell_type": "code",
   "execution_count": 72,
   "id": "d5f599c6",
   "metadata": {},
   "outputs": [],
   "source": [
    "from rapidfuzz import process, fuzz"
   ]
  },
  {
   "cell_type": "code",
   "execution_count": 23,
   "id": "665882fe",
   "metadata": {},
   "outputs": [],
   "source": [
    "from food_extractor.food_model import FoodModel\n",
    "import pytesseract\n",
    "import io,os\n",
    "import pandas as pd\n",
    "\n",
    "from google.cloud import vision\n",
    "from google.cloud import vision_v1"
   ]
  },
  {
   "cell_type": "code",
   "execution_count": 132,
   "id": "7c175c6a",
   "metadata": {
    "scrolled": false
   },
   "outputs": [
    {
     "name": "stdout",
     "output_type": "stream",
     "text": [
      "Collecting translators\n",
      "  Downloading translators-5.0.2-py3-none-any.whl (23 kB)\n",
      "Collecting loguru>=0.6.0\n",
      "  Downloading loguru-0.6.0-py3-none-any.whl (58 kB)\n",
      "Collecting pathos>=0.2.8\n",
      "  Downloading pathos-0.2.8-py2.py3-none-any.whl (81 kB)\n",
      "Collecting PyExecJS>=1.5.1\n",
      "  Downloading PyExecJS-1.5.1.tar.gz (13 kB)\n",
      "  Preparing metadata (setup.py): started\n",
      "  Preparing metadata (setup.py): finished with status 'done'\n",
      "Requirement already satisfied: requests>=2.27.1 in c:\\users\\conde\\anaconda3\\envs\\hackathon\\lib\\site-packages (from translators) (2.27.1)\n",
      "Collecting lxml>=4.8.0\n",
      "  Downloading lxml-4.8.0-cp38-cp38-win_amd64.whl (3.6 MB)\n",
      "Requirement already satisfied: colorama>=0.3.4 in c:\\users\\conde\\anaconda3\\envs\\hackathon\\lib\\site-packages (from loguru>=0.6.0->translators) (0.4.4)\n",
      "Collecting win32-setctime>=1.0.0\n",
      "  Downloading win32_setctime-1.1.0-py3-none-any.whl (3.6 kB)\n",
      "Collecting multiprocess>=0.70.12\n",
      "  Downloading multiprocess-0.70.12.2-py38-none-any.whl (128 kB)\n",
      "Collecting dill>=0.3.4\n",
      "  Downloading dill-0.3.4-py2.py3-none-any.whl (86 kB)\n",
      "Collecting ppft>=1.6.6.4\n",
      "  Downloading ppft-1.6.6.4-py3-none-any.whl (65 kB)\n",
      "Collecting pox>=0.3.0\n",
      "  Downloading pox-0.3.0-py2.py3-none-any.whl (30 kB)\n",
      "Requirement already satisfied: six>=1.10.0 in c:\\users\\conde\\anaconda3\\envs\\hackathon\\lib\\site-packages (from PyExecJS>=1.5.1->translators) (1.16.0)\n",
      "Requirement already satisfied: certifi>=2017.4.17 in c:\\users\\conde\\anaconda3\\envs\\hackathon\\lib\\site-packages (from requests>=2.27.1->translators) (2021.10.8)\n",
      "Requirement already satisfied: idna<4,>=2.5 in c:\\users\\conde\\anaconda3\\envs\\hackathon\\lib\\site-packages (from requests>=2.27.1->translators) (2.10)\n",
      "Requirement already satisfied: charset-normalizer~=2.0.0 in c:\\users\\conde\\anaconda3\\envs\\hackathon\\lib\\site-packages (from requests>=2.27.1->translators) (2.0.12)\n",
      "Requirement already satisfied: urllib3<1.27,>=1.21.1 in c:\\users\\conde\\anaconda3\\envs\\hackathon\\lib\\site-packages (from requests>=2.27.1->translators) (1.26.9)\n",
      "Building wheels for collected packages: PyExecJS\n",
      "  Building wheel for PyExecJS (setup.py): started\n",
      "  Building wheel for PyExecJS (setup.py): finished with status 'done'\n",
      "  Created wheel for PyExecJS: filename=PyExecJS-1.5.1-py3-none-any.whl size=14598 sha256=02d05ca829454c43582faef47ed632a18931553e97d46031fe828ea7ea2cf576\n",
      "  Stored in directory: c:\\users\\conde\\appdata\\local\\pip\\cache\\wheels\\db\\3c\\3d\\7e9aca234caf6602ae4a4c7b367b3afc03519e791b998a94e4\n",
      "Successfully built PyExecJS\n",
      "Installing collected packages: dill, win32-setctime, ppft, pox, multiprocess, PyExecJS, pathos, lxml, loguru, translators\n",
      "Successfully installed PyExecJS-1.5.1 dill-0.3.4 loguru-0.6.0 lxml-4.8.0 multiprocess-0.70.12.2 pathos-0.2.8 pox-0.3.0 ppft-1.6.6.4 translators-5.0.2 win32-setctime-1.1.0\n"
     ]
    },
    {
     "name": "stderr",
     "output_type": "stream",
     "text": [
      "WARNING: You are using pip version 21.3.1; however, version 22.0.4 is available.\n",
      "You should consider upgrading via the 'C:\\Users\\conde\\anaconda3\\envs\\hackathon\\python.exe -m pip install --upgrade pip' command.\n"
     ]
    }
   ],
   "source": [
    "!pip install translators"
   ]
  },
  {
   "cell_type": "code",
   "execution_count": 133,
   "id": "fafeaaef",
   "metadata": {},
   "outputs": [
    {
     "name": "stderr",
     "output_type": "stream",
     "text": [
      "Using Portugal server backend.\n"
     ]
    }
   ],
   "source": [
    "import translators as ts"
   ]
  },
  {
   "cell_type": "code",
   "execution_count": 167,
   "id": "617c9575",
   "metadata": {},
   "outputs": [
    {
     "name": "stdout",
     "output_type": "stream",
     "text": [
      "Collecting deepl\n",
      "  Downloading deepl-1.5.0-py3-none-any.whl (30 kB)\n",
      "Requirement already satisfied: requests<3,>=2 in c:\\users\\conde\\anaconda3\\envs\\hackathon\\lib\\site-packages (from deepl) (2.27.1)\n",
      "Requirement already satisfied: charset-normalizer~=2.0.0 in c:\\users\\conde\\anaconda3\\envs\\hackathon\\lib\\site-packages (from requests<3,>=2->deepl) (2.0.12)\n",
      "Requirement already satisfied: idna<4,>=2.5 in c:\\users\\conde\\anaconda3\\envs\\hackathon\\lib\\site-packages (from requests<3,>=2->deepl) (2.10)\n",
      "Requirement already satisfied: urllib3<1.27,>=1.21.1 in c:\\users\\conde\\anaconda3\\envs\\hackathon\\lib\\site-packages (from requests<3,>=2->deepl) (1.26.9)\n",
      "Requirement already satisfied: certifi>=2017.4.17 in c:\\users\\conde\\anaconda3\\envs\\hackathon\\lib\\site-packages (from requests<3,>=2->deepl) (2021.10.8)\n",
      "Installing collected packages: deepl\n",
      "Successfully installed deepl-1.5.0\n"
     ]
    },
    {
     "name": "stderr",
     "output_type": "stream",
     "text": [
      "WARNING: You are using pip version 21.3.1; however, version 22.0.4 is available.\n",
      "You should consider upgrading via the 'C:\\Users\\conde\\anaconda3\\envs\\hackathon\\python.exe -m pip install --upgrade pip' command.\n"
     ]
    }
   ],
   "source": [
    "!pip install deepl"
   ]
  },
  {
   "cell_type": "code",
   "execution_count": 168,
   "id": "f7c515d8",
   "metadata": {},
   "outputs": [],
   "source": [
    "import deepl \n",
    "#translator = deepl.Translator(\"02de74f5-c9cd-ca02-0914-1c9f892f18ba:fx\") \n",
    "#result = translator.translate_text(\"HAllo, dies ist ein test\", target_lang=\"EN-US\") \n",
    "#translated_text = result.text"
   ]
  },
  {
   "cell_type": "code",
   "execution_count": 175,
   "id": "4036133f",
   "metadata": {},
   "outputs": [
    {
     "data": {
      "text/plain": [
       "str"
      ]
     },
     "execution_count": 175,
     "metadata": {},
     "output_type": "execute_result"
    }
   ],
   "source": [
    "translator = deepl.Translator(\"02de74f5-c9cd-ca02-0914-1c9f892f18ba:fx\") \n",
    "result = translator.translate_text(\"HAllo, dies ist ein test\", target_lang=\"EN-US\") \n",
    "translated_text = result.text\n",
    "\n",
    "type(translated_text)"
   ]
  },
  {
   "cell_type": "code",
   "execution_count": 24,
   "id": "7a3522da",
   "metadata": {},
   "outputs": [
    {
     "name": "stderr",
     "output_type": "stream",
     "text": [
      "Downloading: 100%|█████████████████████████████████████████████████████████████████████| 706/706 [00:00<00:00, 353kB/s]\n",
      "Downloading: 100%|██████████████████████████████████████████████████████████████████| 249M/249M [00:17<00:00, 14.7MB/s]\n",
      "Downloading: 100%|██████████████████████████████████████████████████████████████████| 29.0/29.0 [00:00<00:00, 29.4kB/s]\n",
      "Downloading: 100%|███████████████████████████████████████████████████████████████████| 208k/208k [00:00<00:00, 372kB/s]\n",
      "Downloading: 100%|███████████████████████████████████████████████████████████████████| 426k/426k [00:00<00:00, 613kB/s]\n",
      "Downloading: 100%|█████████████████████████████████████████████████████████████████████| 411/411 [00:00<00:00, 205kB/s]\n"
     ]
    }
   ],
   "source": [
    "model = FoodModel(\"chambliss/distilbert-for-food-extraction\")"
   ]
  },
  {
   "cell_type": "code",
   "execution_count": 82,
   "id": "2b6dab43",
   "metadata": {},
   "outputs": [],
   "source": [
    "recipes = r\"C:\\Users\\conde\\OneDrive\\OneDrive Docs\\Documents\\Masters\\2nd semester\\Hackathon\\simplified-recipes-1M.npz\""
   ]
  },
  {
   "cell_type": "code",
   "execution_count": 83,
   "id": "7ce4c817",
   "metadata": {},
   "outputs": [],
   "source": [
    "with np.load(recipes,allow_pickle=True) as data:\n",
    "    recipes = data['recipes']\n",
    "    ingredients = data['ingredients']"
   ]
  },
  {
   "cell_type": "code",
   "execution_count": 185,
   "id": "899a41e0",
   "metadata": {},
   "outputs": [],
   "source": [
    "file = r\"C:\\Users\\conde\\OneDrive\\Pictures\\Capturas de Ecrã\\Screenshot (6).png\""
   ]
  },
  {
   "cell_type": "code",
   "execution_count": 181,
   "id": "74f538d9",
   "metadata": {
    "scrolled": false
   },
   "outputs": [],
   "source": [
    "def get_ingredients(file):\n",
    "    \n",
    "    english = input('Is your recipe in English? ')\n",
    "    running = True\n",
    "    \n",
    "    while running == True:\n",
    "    \n",
    "        if str(english.lower()).startswith('y'):\n",
    "\n",
    "\n",
    "            os.environ[\"GOOGLE_APPLICATION_CREDENTIALS\"] = r\"C:\\Users\\conde\\OneDrive\\OneDrive Docs\\Documents\\Masters\\2nd semester\\Hackathon\\Repo\\food-345217-eb439b2535cc.json\"\n",
    "\n",
    "\n",
    "            client_options = {'api_endpoint': 'eu-vision.googleapis.com'}\n",
    "\n",
    "            client = vision.ImageAnnotatorClient(client_options=client_options)\n",
    "\n",
    "            # load image into memory\n",
    "            with io.open(file,\"rb\") as image_file:\n",
    "                file_content = image_file.read()\n",
    "            # perform text detection from the image\n",
    "            image_detail = vision.Image(content=file_content)\n",
    "            response = client.document_text_detection(image=image_detail)\n",
    "            # print text from the dcoment\n",
    "            doctext = response.full_text_annotation.text\n",
    "\n",
    "            #doctext = ts.google(doctext)\n",
    "\n",
    "            items = []\n",
    "            for i, v in enumerate(list(model.extract_foods(doctext)[0].values())[1]):\n",
    "                if v['conf'] >= 0.7:\n",
    "                    items.append(v['text'])\n",
    "                else:\n",
    "                    pass\n",
    "\n",
    "            items = list(set(items))\n",
    "\n",
    "            clean_item = list()\n",
    "            for item in items:\n",
    "                if process.extractOne(item, ingredients, scorer=fuzz.WRatio)[1] > 95:\n",
    "                    clean_item.append(item)\n",
    "\n",
    "            items = clean_item\n",
    "\n",
    "            quantities = dict()\n",
    "            for i, v in enumerate(items):\n",
    "                quantities[v] = float(input(f'Enter grams of {v}: '))\n",
    "            running = False\n",
    "            return quantities\n",
    "\n",
    "        elif str(english.lower()).startswith('n'):\n",
    "\n",
    "            os.environ[\"GOOGLE_APPLICATION_CREDENTIALS\"] = r\"C:\\Users\\conde\\OneDrive\\OneDrive Docs\\Documents\\Masters\\2nd semester\\Hackathon\\Repo\\food-345217-eb439b2535cc.json\"\n",
    "\n",
    "\n",
    "            client_options = {'api_endpoint': 'eu-vision.googleapis.com'}\n",
    "\n",
    "            client = vision.ImageAnnotatorClient(client_options=client_options)\n",
    "\n",
    "            # load image into memory\n",
    "            with io.open(file,\"rb\") as image_file:\n",
    "                file_content = image_file.read()\n",
    "            # perform text detection from the image\n",
    "            image_detail = vision.Image(content=file_content)\n",
    "            response = client.document_text_detection(image=image_detail)\n",
    "            # print text from the dcoment\n",
    "            doctext = response.full_text_annotation.text\n",
    "\n",
    "            doctext = deepl.Translator(\"02de74f5-c9cd-ca02-0914-1c9f892f18ba:fx\").translate_text(doctext, target_lang=\"EN-US\").text\n",
    "\n",
    "            items = []\n",
    "            for i, v in enumerate(list(model.extract_foods(doctext)[0].values())[1]):\n",
    "                if v['conf'] >= 0.7:\n",
    "                    items.append(v['text'])\n",
    "                else:\n",
    "                    pass\n",
    "\n",
    "            items = list(set(items))\n",
    "\n",
    "            clean_item = list()\n",
    "            for item in items:\n",
    "                if process.extractOne(item, ingredients, scorer=fuzz.WRatio)[1] > 95:\n",
    "                    clean_item.append(item)\n",
    "\n",
    "            items = clean_item\n",
    "\n",
    "            quantities = dict()\n",
    "            for i, v in enumerate(items):\n",
    "                quantities[v] = float(input(f'Enter grams of {v}: '))\n",
    "            running = False\n",
    "            return quantities\n",
    "        else:\n",
    "            print('Please answer yes or no.')"
   ]
  },
  {
   "cell_type": "code",
   "execution_count": 186,
   "id": "a8d657d1",
   "metadata": {},
   "outputs": [
    {
     "name": "stdout",
     "output_type": "stream",
     "text": [
      "Is your recipe in English? not a chance\n",
      "Enter grams of beef: 5\n",
      "Enter grams of eggs: 6\n",
      "Enter grams of Onions: 6\n",
      "Enter grams of black pepper: 6\n",
      "Enter grams of Parsley: 6\n",
      "Enter grams of baking powder: 6\n",
      "Enter grams of bread: 6\n",
      "Enter grams of Sour cream: 6\n"
     ]
    },
    {
     "data": {
      "text/plain": [
       "{'beef': 5.0,\n",
       " 'eggs': 6.0,\n",
       " 'Onions': 6.0,\n",
       " 'black pepper': 6.0,\n",
       " 'Parsley': 6.0,\n",
       " 'baking powder': 6.0,\n",
       " 'bread': 6.0,\n",
       " 'Sour cream': 6.0}"
      ]
     },
     "execution_count": 186,
     "metadata": {},
     "output_type": "execute_result"
    }
   ],
   "source": [
    "get_ingredients(file)"
   ]
  },
  {
   "cell_type": "markdown",
   "id": "9e962b47",
   "metadata": {},
   "source": [
    "## !pip install kivy "
   ]
  },
  {
   "cell_type": "code",
   "execution_count": null,
   "id": "96765641",
   "metadata": {},
   "outputs": [
    {
     "name": "stderr",
     "output_type": "stream",
     "text": [
      "[WARNING] [Config      ] Older configuration version detected (0 instead of 24)\n",
      "[WARNING] [Config      ] Upgrading configuration in progress.\n",
      "[INFO   ] [Logger      ] Record log in /Users/yuriyperezhohin/.kivy/logs/kivy_22-03-26_0.txt\n",
      "[INFO   ] [Kivy        ] v2.1.0\n",
      "[INFO   ] [Kivy        ] Installed at \"/Users/yuriyperezhohin/opt/anaconda3/envs/Programing/lib/python3.8/site-packages/kivy/__init__.py\"\n",
      "[INFO   ] [Python      ] v3.8.2 (default, Mar 26 2020, 10:43:30) \n",
      "[Clang 4.0.1 (tags/RELEASE_401/final)]\n",
      "[INFO   ] [Python      ] Interpreter at \"/Users/yuriyperezhohin/opt/anaconda3/envs/Programing/bin/python\"\n",
      "[INFO   ] [Logger      ] Purge log fired. Processing...\n",
      "[INFO   ] [Logger      ] Purge finished!\n",
      "[INFO   ] [Factory     ] 189 symbols loaded\n",
      "[INFO   ] [Image       ] Providers: img_tex, img_imageio, img_dds, img_sdl2, img_pil (img_ffpyplayer ignored)\n",
      "[INFO   ] [Window      ] Provider: sdl2\n",
      "[INFO   ] [GL          ] Using the \"OpenGL ES 2\" graphics system\n",
      "[INFO   ] [GL          ] Backend used <sdl2>\n",
      "[INFO   ] [GL          ] OpenGL version <b'2.1 Metal - 76.3'>\n",
      "[INFO   ] [GL          ] OpenGL vendor <b'Apple'>\n",
      "[INFO   ] [GL          ] OpenGL renderer <b'Apple M1'>\n",
      "[INFO   ] [GL          ] OpenGL parsed version: 2, 1\n",
      "[INFO   ] [GL          ] Shading version <b'1.20'>\n",
      "[INFO   ] [GL          ] Texture max size <16384>\n",
      "[INFO   ] [GL          ] Texture max units <16>\n",
      "[INFO   ] [Window      ] auto add sdl2 input provider\n",
      "[INFO   ] [Window      ] virtual keyboard not allowed, single mode, not docked\n",
      "[INFO   ] [Camera      ] Provider: avfoundation\n",
      "[INFO   ] [Text        ] Provider: sdl2\n",
      "[INFO   ] [Base        ] Start application main loop\n",
      "[INFO   ] [GL          ] NPOT texture support is available\n",
      "[INFO   ] [GL          ] BGRA texture support is available\n"
     ]
    },
    {
     "name": "stdout",
     "output_type": "stream",
     "text": [
      "Captured\n",
      "Captured\n",
      "Captured\n",
      "Captured\n",
      "Captured\n"
     ]
    }
   ],
   "source": [
    "'''\n",
    "Camera Example\n",
    "==============\n",
    "\n",
    "This example demonstrates a simple use of the camera. It shows a window with\n",
    "a buttoned labelled 'play' to turn the camera on and off. Note that\n",
    "not finding a camera, perhaps because gstreamer is not installed, will\n",
    "throw an exception during the kv language processing.\n",
    "\n",
    "'''\n",
    "\n",
    "# Uncomment these lines to see all the messages\n",
    "# from kivy.logger import Logger\n",
    "# import logging\n",
    "# Logger.setLevel(logging.TRACE)\n",
    "\n",
    "from kivy.app import App\n",
    "from kivy.lang import Builder\n",
    "from kivy.uix.boxlayout import BoxLayout\n",
    "import time\n",
    "Builder.load_string('''\n",
    "<CameraClick>:\n",
    "    orientation: 'vertical'\n",
    "    Camera:\n",
    "        id: camera\n",
    "        resolution: (680, 420)\n",
    "        play: False\n",
    "    ToggleButton:\n",
    "        text: 'Play'\n",
    "        on_press: camera.play = not camera.play\n",
    "        size_hint_y: None\n",
    "        height: '48dp'\n",
    "    Button:\n",
    "        text: 'Capture'\n",
    "        size_hint_y: None\n",
    "        height: '48dp'\n",
    "        on_press: root.capture()\n",
    "''')\n",
    "\n",
    "\n",
    "class CameraClick(BoxLayout):\n",
    "    def capture(self):\n",
    "        '''\n",
    "        Function to capture the images and give them the names\n",
    "        according to their captured time and date.\n",
    "        '''\n",
    "        camera = self.ids['camera']\n",
    "        timestr = time.strftime(\"%Y%m%d_%H%M%S\")\n",
    "        camera.export_to_png(\"IMG_{}.png\".format(timestr))\n",
    "        print(\"Captured\")\n",
    "\n",
    "\n",
    "class TestCamera(App):\n",
    "\n",
    "    def build(self):\n",
    "        return CameraClick()\n",
    "\n",
    "\n",
    "TestCamera().run()"
   ]
  },
  {
   "cell_type": "code",
   "execution_count": null,
   "id": "c83735a7",
   "metadata": {},
   "outputs": [],
   "source": []
  }
 ],
 "metadata": {
  "kernelspec": {
   "display_name": "Python 3 (ipykernel)",
   "language": "python",
   "name": "python3"
  },
  "language_info": {
   "codemirror_mode": {
    "name": "ipython",
    "version": 3
   },
   "file_extension": ".py",
   "mimetype": "text/x-python",
   "name": "python",
   "nbconvert_exporter": "python",
   "pygments_lexer": "ipython3",
   "version": "3.8.12"
  }
 },
 "nbformat": 4,
 "nbformat_minor": 5
}
